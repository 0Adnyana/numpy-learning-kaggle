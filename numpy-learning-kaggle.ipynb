{
 "cells": [
  {
   "cell_type": "code",
   "execution_count": 1,
   "id": "09bef58d",
   "metadata": {
    "_cell_guid": "b1076dfc-b9ad-4769-8c92-a6c4dae69d19",
    "_uuid": "8f2839f25d086af736a60e9eeb907d3b93b6e0e5",
    "execution": {
     "iopub.execute_input": "2024-06-18T15:06:22.550247Z",
     "iopub.status.busy": "2024-06-18T15:06:22.549821Z",
     "iopub.status.idle": "2024-06-18T15:06:22.563506Z",
     "shell.execute_reply": "2024-06-18T15:06:22.562394Z"
    },
    "papermill": {
     "duration": 0.026607,
     "end_time": "2024-06-18T15:06:22.566086",
     "exception": false,
     "start_time": "2024-06-18T15:06:22.539479",
     "status": "completed"
    },
    "tags": []
   },
   "outputs": [],
   "source": [
    "import numpy as np"
   ]
  },
  {
   "cell_type": "code",
   "execution_count": 2,
   "id": "4eef84b5",
   "metadata": {
    "execution": {
     "iopub.execute_input": "2024-06-18T15:06:22.584759Z",
     "iopub.status.busy": "2024-06-18T15:06:22.584354Z",
     "iopub.status.idle": "2024-06-18T15:06:22.592596Z",
     "shell.execute_reply": "2024-06-18T15:06:22.591054Z"
    },
    "papermill": {
     "duration": 0.021823,
     "end_time": "2024-06-18T15:06:22.596389",
     "exception": false,
     "start_time": "2024-06-18T15:06:22.574566",
     "status": "completed"
    },
    "tags": []
   },
   "outputs": [
    {
     "name": "stdout",
     "output_type": "stream",
     "text": [
      "[1 2 4]\n"
     ]
    }
   ],
   "source": [
    "a = np.array([1, 2, 4])\n",
    "print(a)"
   ]
  },
  {
   "cell_type": "code",
   "execution_count": 3,
   "id": "3977136a",
   "metadata": {
    "execution": {
     "iopub.execute_input": "2024-06-18T15:06:22.616599Z",
     "iopub.status.busy": "2024-06-18T15:06:22.615268Z",
     "iopub.status.idle": "2024-06-18T15:06:22.622802Z",
     "shell.execute_reply": "2024-06-18T15:06:22.621544Z"
    },
    "papermill": {
     "duration": 0.01984,
     "end_time": "2024-06-18T15:06:22.625278",
     "exception": false,
     "start_time": "2024-06-18T15:06:22.605438",
     "status": "completed"
    },
    "tags": []
   },
   "outputs": [
    {
     "name": "stdout",
     "output_type": "stream",
     "text": [
      "[[3.   2.   1.  ]\n",
      " [4.   5.2  6.9 ]\n",
      " [9.23 8.1  7.43]]\n"
     ]
    }
   ],
   "source": [
    "b = np.array([[3.0, 2.0, 1.0], [4.0, 5.2, 6.9], [9.23, 8.1, 7.43]])\n",
    "print(b)"
   ]
  },
  {
   "cell_type": "code",
   "execution_count": 4,
   "id": "01c7e42b",
   "metadata": {
    "execution": {
     "iopub.execute_input": "2024-06-18T15:06:22.643870Z",
     "iopub.status.busy": "2024-06-18T15:06:22.643502Z",
     "iopub.status.idle": "2024-06-18T15:06:22.650865Z",
     "shell.execute_reply": "2024-06-18T15:06:22.649861Z"
    },
    "papermill": {
     "duration": 0.019973,
     "end_time": "2024-06-18T15:06:22.653814",
     "exception": false,
     "start_time": "2024-06-18T15:06:22.633841",
     "status": "completed"
    },
    "tags": []
   },
   "outputs": [
    {
     "name": "stdout",
     "output_type": "stream",
     "text": [
      "1 2\n",
      "3 9\n",
      "(3,) (3, 3)\n"
     ]
    }
   ],
   "source": [
    "# ndim returns the number of dimensions of an array\n",
    "print(a.ndim, b.ndim)\n",
    "# size returns the number of elements in an array\n",
    "print(a.size, b.size)\n",
    "# shape returns a tuple of the number of elements stored in each dimension of an array. \n",
    "# for example, a 2d array may have row length of 2, and column length of 3.\n",
    "print(a.shape, b.shape)"
   ]
  },
  {
   "cell_type": "code",
   "execution_count": 5,
   "id": "226741c3",
   "metadata": {
    "execution": {
     "iopub.execute_input": "2024-06-18T15:06:22.672335Z",
     "iopub.status.busy": "2024-06-18T15:06:22.671942Z",
     "iopub.status.idle": "2024-06-18T15:06:22.677746Z",
     "shell.execute_reply": "2024-06-18T15:06:22.676665Z"
    },
    "papermill": {
     "duration": 0.018631,
     "end_time": "2024-06-18T15:06:22.680794",
     "exception": false,
     "start_time": "2024-06-18T15:06:22.662163",
     "status": "completed"
    },
    "tags": []
   },
   "outputs": [
    {
     "name": "stdout",
     "output_type": "stream",
     "text": [
      "int64 float64\n"
     ]
    }
   ],
   "source": [
    "# type returns the type of the array\n",
    "print(a.dtype, b.dtype)"
   ]
  },
  {
   "cell_type": "code",
   "execution_count": 6,
   "id": "7d086b5f",
   "metadata": {
    "execution": {
     "iopub.execute_input": "2024-06-18T15:06:22.699899Z",
     "iopub.status.busy": "2024-06-18T15:06:22.699531Z",
     "iopub.status.idle": "2024-06-18T15:06:22.705626Z",
     "shell.execute_reply": "2024-06-18T15:06:22.704578Z"
    },
    "papermill": {
     "duration": 0.01905,
     "end_time": "2024-06-18T15:06:22.708710",
     "exception": false,
     "start_time": "2024-06-18T15:06:22.689660",
     "status": "completed"
    },
    "tags": []
   },
   "outputs": [
    {
     "name": "stdout",
     "output_type": "stream",
     "text": [
      "[10 12 13] int16\n"
     ]
    }
   ],
   "source": [
    "# specifying the type of an array\n",
    "c = np.array([10, 12, 13], dtype='int16')\n",
    "print(c, c.dtype)"
   ]
  },
  {
   "cell_type": "code",
   "execution_count": 7,
   "id": "857e5d94",
   "metadata": {
    "execution": {
     "iopub.execute_input": "2024-06-18T15:06:22.727862Z",
     "iopub.status.busy": "2024-06-18T15:06:22.727501Z",
     "iopub.status.idle": "2024-06-18T15:06:22.733601Z",
     "shell.execute_reply": "2024-06-18T15:06:22.732419Z"
    },
    "papermill": {
     "duration": 0.018866,
     "end_time": "2024-06-18T15:06:22.736310",
     "exception": false,
     "start_time": "2024-06-18T15:06:22.717444",
     "status": "completed"
    },
    "tags": []
   },
   "outputs": [
    {
     "name": "stdout",
     "output_type": "stream",
     "text": [
      "8 8 2\n"
     ]
    }
   ],
   "source": [
    "# get size (byte)\n",
    "print(a.itemsize, b.itemsize, c.itemsize)"
   ]
  },
  {
   "cell_type": "code",
   "execution_count": 8,
   "id": "8dc879c9",
   "metadata": {
    "execution": {
     "iopub.execute_input": "2024-06-18T15:06:22.756187Z",
     "iopub.status.busy": "2024-06-18T15:06:22.755747Z",
     "iopub.status.idle": "2024-06-18T15:06:22.761615Z",
     "shell.execute_reply": "2024-06-18T15:06:22.760479Z"
    },
    "papermill": {
     "duration": 0.018961,
     "end_time": "2024-06-18T15:06:22.764291",
     "exception": false,
     "start_time": "2024-06-18T15:06:22.745330",
     "status": "completed"
    },
    "tags": []
   },
   "outputs": [
    {
     "name": "stdout",
     "output_type": "stream",
     "text": [
      "24 72 6\n"
     ]
    }
   ],
   "source": [
    "# get total size\n",
    "print(a.nbytes, b.nbytes, c.nbytes)"
   ]
  },
  {
   "cell_type": "markdown",
   "id": "e1f7ad6f",
   "metadata": {
    "papermill": {
     "duration": 0.009019,
     "end_time": "2024-06-18T15:06:22.782315",
     "exception": false,
     "start_time": "2024-06-18T15:06:22.773296",
     "status": "completed"
    },
    "tags": []
   },
   "source": [
    "### **Accessing/Changing Specific elements, rows, columns, etc.**"
   ]
  },
  {
   "cell_type": "code",
   "execution_count": 9,
   "id": "c8e05d1b",
   "metadata": {
    "execution": {
     "iopub.execute_input": "2024-06-18T15:06:22.802340Z",
     "iopub.status.busy": "2024-06-18T15:06:22.801918Z",
     "iopub.status.idle": "2024-06-18T15:06:22.809065Z",
     "shell.execute_reply": "2024-06-18T15:06:22.808017Z"
    },
    "papermill": {
     "duration": 0.019894,
     "end_time": "2024-06-18T15:06:22.811462",
     "exception": false,
     "start_time": "2024-06-18T15:06:22.791568",
     "status": "completed"
    },
    "tags": []
   },
   "outputs": [
    {
     "name": "stdout",
     "output_type": "stream",
     "text": [
      "[[1 2 3 4 5 6 7]\n",
      " [2 5 2 3 5 7 3]]\n"
     ]
    }
   ],
   "source": [
    "a = np.array([[1,2,3,4,5,6,7],\n",
    "              [2,5,2,3,5,7,3]])\n",
    "print(a)"
   ]
  },
  {
   "cell_type": "code",
   "execution_count": 10,
   "id": "10c16196",
   "metadata": {
    "execution": {
     "iopub.execute_input": "2024-06-18T15:06:22.831072Z",
     "iopub.status.busy": "2024-06-18T15:06:22.830651Z",
     "iopub.status.idle": "2024-06-18T15:06:22.838824Z",
     "shell.execute_reply": "2024-06-18T15:06:22.837771Z"
    },
    "papermill": {
     "duration": 0.020871,
     "end_time": "2024-06-18T15:06:22.841226",
     "exception": false,
     "start_time": "2024-06-18T15:06:22.820355",
     "status": "completed"
    },
    "tags": []
   },
   "outputs": [
    {
     "data": {
      "text/plain": [
       "2"
      ]
     },
     "execution_count": 10,
     "metadata": {},
     "output_type": "execute_result"
    }
   ],
   "source": [
    "# get specific elements using a[row, column]\n",
    "a[1,2]"
   ]
  },
  {
   "cell_type": "code",
   "execution_count": 11,
   "id": "b3001497",
   "metadata": {
    "execution": {
     "iopub.execute_input": "2024-06-18T15:06:22.861475Z",
     "iopub.status.busy": "2024-06-18T15:06:22.861015Z",
     "iopub.status.idle": "2024-06-18T15:06:22.867826Z",
     "shell.execute_reply": "2024-06-18T15:06:22.866820Z"
    },
    "papermill": {
     "duration": 0.019888,
     "end_time": "2024-06-18T15:06:22.870468",
     "exception": false,
     "start_time": "2024-06-18T15:06:22.850580",
     "status": "completed"
    },
    "tags": []
   },
   "outputs": [
    {
     "data": {
      "text/plain": [
       "array([1, 2, 3, 4, 5, 6, 7])"
      ]
     },
     "execution_count": 11,
     "metadata": {},
     "output_type": "execute_result"
    }
   ],
   "source": [
    "# get specific row\n",
    "a[0, :] # first row"
   ]
  },
  {
   "cell_type": "code",
   "execution_count": 12,
   "id": "19eb6f49",
   "metadata": {
    "execution": {
     "iopub.execute_input": "2024-06-18T15:06:22.891080Z",
     "iopub.status.busy": "2024-06-18T15:06:22.890657Z",
     "iopub.status.idle": "2024-06-18T15:06:22.897555Z",
     "shell.execute_reply": "2024-06-18T15:06:22.896388Z"
    },
    "papermill": {
     "duration": 0.019928,
     "end_time": "2024-06-18T15:06:22.899868",
     "exception": false,
     "start_time": "2024-06-18T15:06:22.879940",
     "status": "completed"
    },
    "tags": []
   },
   "outputs": [
    {
     "data": {
      "text/plain": [
       "array([1, 2])"
      ]
     },
     "execution_count": 12,
     "metadata": {},
     "output_type": "execute_result"
    }
   ],
   "source": [
    "# get specific column\n",
    "a[:, 0] # first column"
   ]
  },
  {
   "cell_type": "code",
   "execution_count": 13,
   "id": "d56d269c",
   "metadata": {
    "execution": {
     "iopub.execute_input": "2024-06-18T15:06:22.920895Z",
     "iopub.status.busy": "2024-06-18T15:06:22.920512Z",
     "iopub.status.idle": "2024-06-18T15:06:22.927310Z",
     "shell.execute_reply": "2024-06-18T15:06:22.926155Z"
    },
    "papermill": {
     "duration": 0.020157,
     "end_time": "2024-06-18T15:06:22.929830",
     "exception": false,
     "start_time": "2024-06-18T15:06:22.909673",
     "status": "completed"
    },
    "tags": []
   },
   "outputs": [
    {
     "name": "stdout",
     "output_type": "stream",
     "text": [
      "[1 3 5 7]\n",
      "[1 3 5]\n"
     ]
    }
   ],
   "source": [
    "# get elements by iterating with steps a[row, start:end+1:steps]\n",
    "print(a[0, 0:7:2])\n",
    "print(a[0, 0:-2:2])"
   ]
  },
  {
   "cell_type": "code",
   "execution_count": 14,
   "id": "17b5c5af",
   "metadata": {
    "execution": {
     "iopub.execute_input": "2024-06-18T15:06:22.951049Z",
     "iopub.status.busy": "2024-06-18T15:06:22.950649Z",
     "iopub.status.idle": "2024-06-18T15:06:22.957443Z",
     "shell.execute_reply": "2024-06-18T15:06:22.956241Z"
    },
    "papermill": {
     "duration": 0.020645,
     "end_time": "2024-06-18T15:06:22.960252",
     "exception": false,
     "start_time": "2024-06-18T15:06:22.939607",
     "status": "completed"
    },
    "tags": []
   },
   "outputs": [
    {
     "name": "stdout",
     "output_type": "stream",
     "text": [
      "[[ 1 10  3  4  5  6  7]\n",
      " [ 2  5  2  3  5  7  3]]\n",
      "[[ 1 10 11 11 11  6  7]\n",
      " [ 2  5  2  3  5  7  3]]\n"
     ]
    }
   ],
   "source": [
    "# replace index with element\n",
    "a[0,1] = 10\n",
    "print(a)\n",
    "a[0, 2:5] = 11 # replace a range of index with an element\n",
    "print(a)"
   ]
  },
  {
   "cell_type": "markdown",
   "id": "6a2b7b84",
   "metadata": {
    "papermill": {
     "duration": 0.009545,
     "end_time": "2024-06-18T15:06:22.980603",
     "exception": false,
     "start_time": "2024-06-18T15:06:22.971058",
     "status": "completed"
    },
    "tags": []
   },
   "source": [
    "### **Initialize different types of arrays**"
   ]
  },
  {
   "cell_type": "code",
   "execution_count": 15,
   "id": "de72cb91",
   "metadata": {
    "execution": {
     "iopub.execute_input": "2024-06-18T15:06:23.002949Z",
     "iopub.status.busy": "2024-06-18T15:06:23.001803Z",
     "iopub.status.idle": "2024-06-18T15:06:23.008737Z",
     "shell.execute_reply": "2024-06-18T15:06:23.007586Z"
    },
    "papermill": {
     "duration": 0.020706,
     "end_time": "2024-06-18T15:06:23.011248",
     "exception": false,
     "start_time": "2024-06-18T15:06:22.990542",
     "status": "completed"
    },
    "tags": []
   },
   "outputs": [
    {
     "name": "stdout",
     "output_type": "stream",
     "text": [
      "[[0. 0. 0.]\n",
      " [0. 0. 0.]\n",
      " [0. 0. 0.]]\n"
     ]
    }
   ],
   "source": [
    "# all elements are zeros\n",
    "a = np.zeros((3,3))\n",
    "print(a)"
   ]
  },
  {
   "cell_type": "code",
   "execution_count": 16,
   "id": "6208b3d7",
   "metadata": {
    "execution": {
     "iopub.execute_input": "2024-06-18T15:06:23.034538Z",
     "iopub.status.busy": "2024-06-18T15:06:23.034171Z",
     "iopub.status.idle": "2024-06-18T15:06:23.040700Z",
     "shell.execute_reply": "2024-06-18T15:06:23.039622Z"
    },
    "papermill": {
     "duration": 0.021882,
     "end_time": "2024-06-18T15:06:23.043779",
     "exception": false,
     "start_time": "2024-06-18T15:06:23.021897",
     "status": "completed"
    },
    "tags": []
   },
   "outputs": [
    {
     "name": "stdout",
     "output_type": "stream",
     "text": [
      "[[1. 1. 1. 1.]\n",
      " [1. 1. 1. 1.]\n",
      " [1. 1. 1. 1.]\n",
      " [1. 1. 1. 1.]]\n"
     ]
    }
   ],
   "source": [
    "# all elements are ones\n",
    "b = np.ones((4,4))\n",
    "print(b)"
   ]
  },
  {
   "cell_type": "code",
   "execution_count": 17,
   "id": "8ea05fdc",
   "metadata": {
    "execution": {
     "iopub.execute_input": "2024-06-18T15:06:23.066560Z",
     "iopub.status.busy": "2024-06-18T15:06:23.066139Z",
     "iopub.status.idle": "2024-06-18T15:06:23.073602Z",
     "shell.execute_reply": "2024-06-18T15:06:23.072356Z"
    },
    "papermill": {
     "duration": 0.021594,
     "end_time": "2024-06-18T15:06:23.076190",
     "exception": false,
     "start_time": "2024-06-18T15:06:23.054596",
     "status": "completed"
    },
    "tags": []
   },
   "outputs": [
    {
     "name": "stdout",
     "output_type": "stream",
     "text": [
      "[[[50 50]\n",
      "  [50 50]]\n",
      "\n",
      " [[50 50]\n",
      "  [50 50]]] \n",
      "-=-=-=-=-=-=-=-=-=-=-=-\n",
      "[[[12 12]\n",
      "  [12 12]]\n",
      "\n",
      " [[12 12]\n",
      "  [12 12]]]\n"
     ]
    }
   ],
   "source": [
    "# all elements are the same number (full)\n",
    "c = np.full((2,2,2), 50)\n",
    "print(c, '\\n-=-=-=-=-=-=-=-=-=-=-=-')\n",
    "## make array full of a number with the same shape as another array\n",
    "print(np.full_like(c, 12))"
   ]
  },
  {
   "cell_type": "code",
   "execution_count": 18,
   "id": "199e3384",
   "metadata": {
    "execution": {
     "iopub.execute_input": "2024-06-18T15:06:23.099591Z",
     "iopub.status.busy": "2024-06-18T15:06:23.099179Z",
     "iopub.status.idle": "2024-06-18T15:06:23.106489Z",
     "shell.execute_reply": "2024-06-18T15:06:23.105337Z"
    },
    "papermill": {
     "duration": 0.02335,
     "end_time": "2024-06-18T15:06:23.110431",
     "exception": false,
     "start_time": "2024-06-18T15:06:23.087081",
     "status": "completed"
    },
    "tags": []
   },
   "outputs": [
    {
     "name": "stdout",
     "output_type": "stream",
     "text": [
      "[[0.14792517 0.1104268  0.48459503 0.36352395 0.90202076]\n",
      " [0.49238809 0.10886163 0.20510947 0.37686414 0.40857656]] \n",
      "-=-=-=-=-=-=-=-=-=-=-=-=-\n",
      "[[0.91111086 0.21214041 0.21420014 0.84782763]\n",
      " [0.01844939 0.08796675 0.10109589 0.46859338]\n",
      " [0.59452481 0.53994729 0.55446939 0.48801728]\n",
      " [0.16074032 0.03343995 0.91118499 0.09790671]]\n"
     ]
    }
   ],
   "source": [
    "# create an array of random decimal numbers.\n",
    "print(np.random.rand(2, 5), \"\\n-=-=-=-=-=-=-=-=-=-=-=-=-\")\n",
    "# create an array of random decimal numbers with the same shape as another arrays\n",
    "print(np.random.random(b.shape))"
   ]
  },
  {
   "cell_type": "code",
   "execution_count": 19,
   "id": "438a6ee9",
   "metadata": {
    "execution": {
     "iopub.execute_input": "2024-06-18T15:06:23.133663Z",
     "iopub.status.busy": "2024-06-18T15:06:23.133251Z",
     "iopub.status.idle": "2024-06-18T15:06:23.142744Z",
     "shell.execute_reply": "2024-06-18T15:06:23.141640Z"
    },
    "papermill": {
     "duration": 0.024019,
     "end_time": "2024-06-18T15:06:23.145245",
     "exception": false,
     "start_time": "2024-06-18T15:06:23.121226",
     "status": "completed"
    },
    "tags": []
   },
   "outputs": [
    {
     "name": "stdout",
     "output_type": "stream",
     "text": [
      "[[14 11 11 14]\n",
      " [13 11 10 13]]\n",
      "\n",
      "============================\n",
      "[[ 9  7 12  5]\n",
      " [12  9  5 11]]\n"
     ]
    }
   ],
   "source": [
    "# create an array of random integers\n",
    "print(np.random.default_rng().integers(10, 15, size=(2,4)))\n",
    "print(\"\\n============================\")\n",
    "# using randit (deprecated)\n",
    "print(np.random.randint(5, 15, size=(2,4)))"
   ]
  },
  {
   "cell_type": "markdown",
   "id": "3da13016",
   "metadata": {
    "papermill": {
     "duration": 0.01069,
     "end_time": "2024-06-18T15:06:23.166974",
     "exception": false,
     "start_time": "2024-06-18T15:06:23.156284",
     "status": "completed"
    },
    "tags": []
   },
   "source": [
    "[](http://)"
   ]
  },
  {
   "cell_type": "code",
   "execution_count": 20,
   "id": "3c6daf9b",
   "metadata": {
    "execution": {
     "iopub.execute_input": "2024-06-18T15:06:23.189316Z",
     "iopub.status.busy": "2024-06-18T15:06:23.188896Z",
     "iopub.status.idle": "2024-06-18T15:06:23.194822Z",
     "shell.execute_reply": "2024-06-18T15:06:23.193765Z"
    },
    "papermill": {
     "duration": 0.019929,
     "end_time": "2024-06-18T15:06:23.197273",
     "exception": false,
     "start_time": "2024-06-18T15:06:23.177344",
     "status": "completed"
    },
    "tags": []
   },
   "outputs": [
    {
     "name": "stdout",
     "output_type": "stream",
     "text": [
      "[[1. 0. 0.]\n",
      " [0. 1. 0.]\n",
      " [0. 0. 1.]]\n"
     ]
    }
   ],
   "source": [
    "# create an identity matrix\n",
    "print(np.identity(3))"
   ]
  },
  {
   "cell_type": "code",
   "execution_count": 21,
   "id": "0015f455",
   "metadata": {
    "execution": {
     "iopub.execute_input": "2024-06-18T15:06:23.219911Z",
     "iopub.status.busy": "2024-06-18T15:06:23.219558Z",
     "iopub.status.idle": "2024-06-18T15:06:23.225898Z",
     "shell.execute_reply": "2024-06-18T15:06:23.224660Z"
    },
    "papermill": {
     "duration": 0.02027,
     "end_time": "2024-06-18T15:06:23.228278",
     "exception": false,
     "start_time": "2024-06-18T15:06:23.208008",
     "status": "completed"
    },
    "tags": []
   },
   "outputs": [
    {
     "name": "stdout",
     "output_type": "stream",
     "text": [
      "[[1 2 3]\n",
      " [1 2 3]\n",
      " [1 2 3]]\n"
     ]
    }
   ],
   "source": [
    "# repeat an array\n",
    "print(np.repeat([[1,2,3]], 3, axis=0))"
   ]
  },
  {
   "cell_type": "code",
   "execution_count": 22,
   "id": "e7b00f43",
   "metadata": {
    "execution": {
     "iopub.execute_input": "2024-06-18T15:06:23.251641Z",
     "iopub.status.busy": "2024-06-18T15:06:23.250691Z",
     "iopub.status.idle": "2024-06-18T15:06:23.260656Z",
     "shell.execute_reply": "2024-06-18T15:06:23.259619Z"
    },
    "papermill": {
     "duration": 0.024259,
     "end_time": "2024-06-18T15:06:23.263077",
     "exception": false,
     "start_time": "2024-06-18T15:06:23.238818",
     "status": "completed"
    },
    "tags": []
   },
   "outputs": [
    {
     "name": "stdout",
     "output_type": "stream",
     "text": [
      "[[1. 1. 1. 1. 1.]\n",
      " [1. 0. 0. 0. 1.]\n",
      " [1. 0. 9. 0. 1.]\n",
      " [1. 0. 0. 0. 1.]\n",
      " [1. 1. 1. 1. 1.]]\n",
      "[[1. 1. 1. 1. 1.]\n",
      " [1. 0. 0. 0. 1.]\n",
      " [1. 0. 9. 0. 1.]\n",
      " [1. 0. 0. 0. 1.]\n",
      " [1. 1. 1. 1. 1.]]\n"
     ]
    }
   ],
   "source": [
    "# array challenge\n",
    "d = np.zeros((5,5))\n",
    "d[0] = np.ones((1,5))\n",
    "d[4] = np.repeat(d[0], 1, axis=0)\n",
    "d[:,0] = np.repeat(d[0], 1, axis=0)\n",
    "d[:,4] = np.repeat(d[0], 1, axis=0)\n",
    "d[2,2] = 9\n",
    "\n",
    "# array challenge #2\n",
    "output = np.ones((5,5))\n",
    "output[1:-1,1:-1] = np.zeros((3,3))\n",
    "output[2,2] = 9\n",
    "print(d)\n",
    "print(output)"
   ]
  },
  {
   "cell_type": "markdown",
   "id": "7bcd2e76",
   "metadata": {
    "papermill": {
     "duration": 0.010644,
     "end_time": "2024-06-18T15:06:23.285253",
     "exception": false,
     "start_time": "2024-06-18T15:06:23.274609",
     "status": "completed"
    },
    "tags": []
   },
   "source": [
    "## Copying arrays !! (IMPORTANT)"
   ]
  },
  {
   "cell_type": "code",
   "execution_count": 23,
   "id": "9127b02d",
   "metadata": {
    "execution": {
     "iopub.execute_input": "2024-06-18T15:06:23.308279Z",
     "iopub.status.busy": "2024-06-18T15:06:23.307876Z",
     "iopub.status.idle": "2024-06-18T15:06:23.315163Z",
     "shell.execute_reply": "2024-06-18T15:06:23.314065Z"
    },
    "papermill": {
     "duration": 0.021808,
     "end_time": "2024-06-18T15:06:23.317722",
     "exception": false,
     "start_time": "2024-06-18T15:06:23.295914",
     "status": "completed"
    },
    "tags": []
   },
   "outputs": [
    {
     "name": "stdout",
     "output_type": "stream",
     "text": [
      "[999   2   3]\n",
      "[1 2 3]\n"
     ]
    }
   ],
   "source": [
    "# when copying array use the copy() method\n",
    "\n",
    "a = np.array([1,2,3])\n",
    "b = a\n",
    "b[0] = 999\n",
    "\n",
    "print(a) # as you can see b points to the same object as a, therefore when we set b[0] to 999 it also changes a\n",
    "\n",
    "# using copy() method\n",
    "\n",
    "a = np.array([1,2,3])\n",
    "b = a.copy()\n",
    "b[0] = 999\n",
    "\n",
    "print(a) # changing elements in b will no longer change a"
   ]
  }
 ],
 "metadata": {
  "kaggle": {
   "accelerator": "none",
   "dataSources": [],
   "dockerImageVersionId": 30732,
   "isGpuEnabled": false,
   "isInternetEnabled": true,
   "language": "python",
   "sourceType": "notebook"
  },
  "kernelspec": {
   "display_name": "Python 3",
   "language": "python",
   "name": "python3"
  },
  "language_info": {
   "codemirror_mode": {
    "name": "ipython",
    "version": 3
   },
   "file_extension": ".py",
   "mimetype": "text/x-python",
   "name": "python",
   "nbconvert_exporter": "python",
   "pygments_lexer": "ipython3",
   "version": "3.10.13"
  },
  "papermill": {
   "default_parameters": {},
   "duration": 4.073936,
   "end_time": "2024-06-18T15:06:23.648736",
   "environment_variables": {},
   "exception": null,
   "input_path": "__notebook__.ipynb",
   "output_path": "__notebook__.ipynb",
   "parameters": {},
   "start_time": "2024-06-18T15:06:19.574800",
   "version": "2.5.0"
  }
 },
 "nbformat": 4,
 "nbformat_minor": 5
}
