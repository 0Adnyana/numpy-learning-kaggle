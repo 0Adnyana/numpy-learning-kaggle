{
 "cells": [
  {
   "cell_type": "code",
   "execution_count": 1,
   "id": "f3eb224c",
   "metadata": {
    "_cell_guid": "b1076dfc-b9ad-4769-8c92-a6c4dae69d19",
    "_uuid": "8f2839f25d086af736a60e9eeb907d3b93b6e0e5",
    "execution": {
     "iopub.execute_input": "2024-06-20T10:59:08.221661Z",
     "iopub.status.busy": "2024-06-20T10:59:08.221195Z",
     "iopub.status.idle": "2024-06-20T10:59:08.232368Z",
     "shell.execute_reply": "2024-06-20T10:59:08.231372Z"
    },
    "papermill": {
     "duration": 0.02529,
     "end_time": "2024-06-20T10:59:08.234542",
     "exception": false,
     "start_time": "2024-06-20T10:59:08.209252",
     "status": "completed"
    },
    "tags": []
   },
   "outputs": [],
   "source": [
    "import numpy as np"
   ]
  },
  {
   "cell_type": "code",
   "execution_count": 2,
   "id": "20bedb8b",
   "metadata": {
    "execution": {
     "iopub.execute_input": "2024-06-20T10:59:08.256241Z",
     "iopub.status.busy": "2024-06-20T10:59:08.255514Z",
     "iopub.status.idle": "2024-06-20T10:59:08.263140Z",
     "shell.execute_reply": "2024-06-20T10:59:08.261470Z"
    },
    "papermill": {
     "duration": 0.020824,
     "end_time": "2024-06-20T10:59:08.265351",
     "exception": false,
     "start_time": "2024-06-20T10:59:08.244527",
     "status": "completed"
    },
    "tags": []
   },
   "outputs": [
    {
     "name": "stdout",
     "output_type": "stream",
     "text": [
      "[1 2 4]\n"
     ]
    }
   ],
   "source": [
    "a = np.array([1, 2, 4])\n",
    "print(a)"
   ]
  },
  {
   "cell_type": "code",
   "execution_count": 3,
   "id": "658aa4ee",
   "metadata": {
    "execution": {
     "iopub.execute_input": "2024-06-20T10:59:08.287681Z",
     "iopub.status.busy": "2024-06-20T10:59:08.286974Z",
     "iopub.status.idle": "2024-06-20T10:59:08.293063Z",
     "shell.execute_reply": "2024-06-20T10:59:08.292058Z"
    },
    "papermill": {
     "duration": 0.019835,
     "end_time": "2024-06-20T10:59:08.295191",
     "exception": false,
     "start_time": "2024-06-20T10:59:08.275356",
     "status": "completed"
    },
    "tags": []
   },
   "outputs": [
    {
     "name": "stdout",
     "output_type": "stream",
     "text": [
      "[[3.   2.   1.  ]\n",
      " [4.   5.2  6.9 ]\n",
      " [9.23 8.1  7.43]]\n"
     ]
    }
   ],
   "source": [
    "b = np.array([[3.0, 2.0, 1.0], [4.0, 5.2, 6.9], [9.23, 8.1, 7.43]])\n",
    "print(b)"
   ]
  },
  {
   "cell_type": "code",
   "execution_count": 4,
   "id": "e64d95d4",
   "metadata": {
    "execution": {
     "iopub.execute_input": "2024-06-20T10:59:08.318073Z",
     "iopub.status.busy": "2024-06-20T10:59:08.317651Z",
     "iopub.status.idle": "2024-06-20T10:59:08.323463Z",
     "shell.execute_reply": "2024-06-20T10:59:08.322449Z"
    },
    "papermill": {
     "duration": 0.01993,
     "end_time": "2024-06-20T10:59:08.325932",
     "exception": false,
     "start_time": "2024-06-20T10:59:08.306002",
     "status": "completed"
    },
    "tags": []
   },
   "outputs": [
    {
     "name": "stdout",
     "output_type": "stream",
     "text": [
      "1 2\n",
      "3 9\n",
      "(3,) (3, 3)\n"
     ]
    }
   ],
   "source": [
    "# ndim returns the number of dimensions of an array\n",
    "print(a.ndim, b.ndim)\n",
    "# size returns the number of elements in an array\n",
    "print(a.size, b.size)\n",
    "# shape returns a tuple of the number of elements stored in each dimension of an array. \n",
    "# for example, a 2d array may have row length of 2, and column length of 3.\n",
    "print(a.shape, b.shape)"
   ]
  },
  {
   "cell_type": "code",
   "execution_count": 5,
   "id": "8e03d762",
   "metadata": {
    "execution": {
     "iopub.execute_input": "2024-06-20T10:59:08.348322Z",
     "iopub.status.busy": "2024-06-20T10:59:08.347957Z",
     "iopub.status.idle": "2024-06-20T10:59:08.353357Z",
     "shell.execute_reply": "2024-06-20T10:59:08.352313Z"
    },
    "papermill": {
     "duration": 0.019487,
     "end_time": "2024-06-20T10:59:08.355491",
     "exception": false,
     "start_time": "2024-06-20T10:59:08.336004",
     "status": "completed"
    },
    "tags": []
   },
   "outputs": [
    {
     "name": "stdout",
     "output_type": "stream",
     "text": [
      "int64 float64\n"
     ]
    }
   ],
   "source": [
    "# type returns the type of the array\n",
    "print(a.dtype, b.dtype)"
   ]
  },
  {
   "cell_type": "code",
   "execution_count": 6,
   "id": "894104d9",
   "metadata": {
    "execution": {
     "iopub.execute_input": "2024-06-20T10:59:08.377378Z",
     "iopub.status.busy": "2024-06-20T10:59:08.376579Z",
     "iopub.status.idle": "2024-06-20T10:59:08.382563Z",
     "shell.execute_reply": "2024-06-20T10:59:08.381410Z"
    },
    "papermill": {
     "duration": 0.019288,
     "end_time": "2024-06-20T10:59:08.384779",
     "exception": false,
     "start_time": "2024-06-20T10:59:08.365491",
     "status": "completed"
    },
    "tags": []
   },
   "outputs": [
    {
     "name": "stdout",
     "output_type": "stream",
     "text": [
      "[10 12 13] int16\n"
     ]
    }
   ],
   "source": [
    "# specifying the type of an array\n",
    "c = np.array([10, 12, 13], dtype='int16')\n",
    "print(c, c.dtype)"
   ]
  },
  {
   "cell_type": "code",
   "execution_count": 7,
   "id": "61731bb8",
   "metadata": {
    "execution": {
     "iopub.execute_input": "2024-06-20T10:59:08.406702Z",
     "iopub.status.busy": "2024-06-20T10:59:08.406331Z",
     "iopub.status.idle": "2024-06-20T10:59:08.411489Z",
     "shell.execute_reply": "2024-06-20T10:59:08.410502Z"
    },
    "papermill": {
     "duration": 0.019106,
     "end_time": "2024-06-20T10:59:08.414073",
     "exception": false,
     "start_time": "2024-06-20T10:59:08.394967",
     "status": "completed"
    },
    "tags": []
   },
   "outputs": [
    {
     "name": "stdout",
     "output_type": "stream",
     "text": [
      "8 8 2\n"
     ]
    }
   ],
   "source": [
    "# get size (byte)\n",
    "print(a.itemsize, b.itemsize, c.itemsize)"
   ]
  },
  {
   "cell_type": "code",
   "execution_count": 8,
   "id": "b0d0d33c",
   "metadata": {
    "execution": {
     "iopub.execute_input": "2024-06-20T10:59:08.436189Z",
     "iopub.status.busy": "2024-06-20T10:59:08.435840Z",
     "iopub.status.idle": "2024-06-20T10:59:08.440974Z",
     "shell.execute_reply": "2024-06-20T10:59:08.439972Z"
    },
    "papermill": {
     "duration": 0.019223,
     "end_time": "2024-06-20T10:59:08.443611",
     "exception": false,
     "start_time": "2024-06-20T10:59:08.424388",
     "status": "completed"
    },
    "tags": []
   },
   "outputs": [
    {
     "name": "stdout",
     "output_type": "stream",
     "text": [
      "24 72 6\n"
     ]
    }
   ],
   "source": [
    "# get total size\n",
    "print(a.nbytes, b.nbytes, c.nbytes)"
   ]
  },
  {
   "cell_type": "markdown",
   "id": "d6d417e7",
   "metadata": {
    "papermill": {
     "duration": 0.010659,
     "end_time": "2024-06-20T10:59:08.464694",
     "exception": false,
     "start_time": "2024-06-20T10:59:08.454035",
     "status": "completed"
    },
    "tags": []
   },
   "source": [
    "### **Accessing/Changing Specific elements, rows, columns, etc.**"
   ]
  },
  {
   "cell_type": "code",
   "execution_count": 9,
   "id": "a9f6f2d5",
   "metadata": {
    "execution": {
     "iopub.execute_input": "2024-06-20T10:59:08.487389Z",
     "iopub.status.busy": "2024-06-20T10:59:08.487008Z",
     "iopub.status.idle": "2024-06-20T10:59:08.493095Z",
     "shell.execute_reply": "2024-06-20T10:59:08.491827Z"
    },
    "papermill": {
     "duration": 0.020017,
     "end_time": "2024-06-20T10:59:08.495350",
     "exception": false,
     "start_time": "2024-06-20T10:59:08.475333",
     "status": "completed"
    },
    "tags": []
   },
   "outputs": [
    {
     "name": "stdout",
     "output_type": "stream",
     "text": [
      "[[1 2 3 4 5 6 7]\n",
      " [2 5 2 3 5 7 3]]\n"
     ]
    }
   ],
   "source": [
    "a = np.array([[1,2,3,4,5,6,7],\n",
    "              [2,5,2,3,5,7,3]])\n",
    "print(a)"
   ]
  },
  {
   "cell_type": "code",
   "execution_count": 10,
   "id": "44ce6bf3",
   "metadata": {
    "execution": {
     "iopub.execute_input": "2024-06-20T10:59:08.518050Z",
     "iopub.status.busy": "2024-06-20T10:59:08.517627Z",
     "iopub.status.idle": "2024-06-20T10:59:08.524858Z",
     "shell.execute_reply": "2024-06-20T10:59:08.523847Z"
    },
    "papermill": {
     "duration": 0.020849,
     "end_time": "2024-06-20T10:59:08.526856",
     "exception": false,
     "start_time": "2024-06-20T10:59:08.506007",
     "status": "completed"
    },
    "tags": []
   },
   "outputs": [
    {
     "data": {
      "text/plain": [
       "2"
      ]
     },
     "execution_count": 10,
     "metadata": {},
     "output_type": "execute_result"
    }
   ],
   "source": [
    "# get specific elements using a[row, column]\n",
    "a[1,2]"
   ]
  },
  {
   "cell_type": "code",
   "execution_count": 11,
   "id": "4bcb22f0",
   "metadata": {
    "execution": {
     "iopub.execute_input": "2024-06-20T10:59:08.550790Z",
     "iopub.status.busy": "2024-06-20T10:59:08.550404Z",
     "iopub.status.idle": "2024-06-20T10:59:08.557536Z",
     "shell.execute_reply": "2024-06-20T10:59:08.556389Z"
    },
    "papermill": {
     "duration": 0.021204,
     "end_time": "2024-06-20T10:59:08.559694",
     "exception": false,
     "start_time": "2024-06-20T10:59:08.538490",
     "status": "completed"
    },
    "tags": []
   },
   "outputs": [
    {
     "data": {
      "text/plain": [
       "array([1, 2, 3, 4, 5, 6, 7])"
      ]
     },
     "execution_count": 11,
     "metadata": {},
     "output_type": "execute_result"
    }
   ],
   "source": [
    "# get specific row\n",
    "a[0, :] # first row"
   ]
  },
  {
   "cell_type": "code",
   "execution_count": 12,
   "id": "14463d1c",
   "metadata": {
    "execution": {
     "iopub.execute_input": "2024-06-20T10:59:08.582629Z",
     "iopub.status.busy": "2024-06-20T10:59:08.582266Z",
     "iopub.status.idle": "2024-06-20T10:59:08.588864Z",
     "shell.execute_reply": "2024-06-20T10:59:08.587571Z"
    },
    "papermill": {
     "duration": 0.020684,
     "end_time": "2024-06-20T10:59:08.591025",
     "exception": false,
     "start_time": "2024-06-20T10:59:08.570341",
     "status": "completed"
    },
    "tags": []
   },
   "outputs": [
    {
     "data": {
      "text/plain": [
       "array([1, 2])"
      ]
     },
     "execution_count": 12,
     "metadata": {},
     "output_type": "execute_result"
    }
   ],
   "source": [
    "# get specific column\n",
    "a[:, 0] # first column"
   ]
  },
  {
   "cell_type": "code",
   "execution_count": 13,
   "id": "3ebe7289",
   "metadata": {
    "execution": {
     "iopub.execute_input": "2024-06-20T10:59:08.614169Z",
     "iopub.status.busy": "2024-06-20T10:59:08.613803Z",
     "iopub.status.idle": "2024-06-20T10:59:08.619643Z",
     "shell.execute_reply": "2024-06-20T10:59:08.618613Z"
    },
    "papermill": {
     "duration": 0.020226,
     "end_time": "2024-06-20T10:59:08.622040",
     "exception": false,
     "start_time": "2024-06-20T10:59:08.601814",
     "status": "completed"
    },
    "tags": []
   },
   "outputs": [
    {
     "name": "stdout",
     "output_type": "stream",
     "text": [
      "[1 3 5 7]\n",
      "[1 3 5]\n"
     ]
    }
   ],
   "source": [
    "# get elements by iterating with steps a[row, start:end+1:steps]\n",
    "print(a[0, 0:7:2])\n",
    "print(a[0, 0:-2:2])"
   ]
  },
  {
   "cell_type": "code",
   "execution_count": 14,
   "id": "b2564b28",
   "metadata": {
    "execution": {
     "iopub.execute_input": "2024-06-20T10:59:08.646390Z",
     "iopub.status.busy": "2024-06-20T10:59:08.645455Z",
     "iopub.status.idle": "2024-06-20T10:59:08.651403Z",
     "shell.execute_reply": "2024-06-20T10:59:08.650559Z"
    },
    "papermill": {
     "duration": 0.020698,
     "end_time": "2024-06-20T10:59:08.653668",
     "exception": false,
     "start_time": "2024-06-20T10:59:08.632970",
     "status": "completed"
    },
    "tags": []
   },
   "outputs": [
    {
     "name": "stdout",
     "output_type": "stream",
     "text": [
      "[[ 1 10  3  4  5  6  7]\n",
      " [ 2  5  2  3  5  7  3]]\n",
      "[[ 1 10 11 11 11  6  7]\n",
      " [ 2  5  2  3  5  7  3]]\n"
     ]
    }
   ],
   "source": [
    "# replace index with element\n",
    "a[0,1] = 10\n",
    "print(a)\n",
    "a[0, 2:5] = 11 # replace a range of index with an element\n",
    "print(a)"
   ]
  },
  {
   "cell_type": "markdown",
   "id": "f6abbaa6",
   "metadata": {
    "papermill": {
     "duration": 0.011003,
     "end_time": "2024-06-20T10:59:08.675706",
     "exception": false,
     "start_time": "2024-06-20T10:59:08.664703",
     "status": "completed"
    },
    "tags": []
   },
   "source": [
    "### **Initialize different types of arrays**"
   ]
  },
  {
   "cell_type": "code",
   "execution_count": 15,
   "id": "e7d466de",
   "metadata": {
    "execution": {
     "iopub.execute_input": "2024-06-20T10:59:08.699414Z",
     "iopub.status.busy": "2024-06-20T10:59:08.699063Z",
     "iopub.status.idle": "2024-06-20T10:59:08.706057Z",
     "shell.execute_reply": "2024-06-20T10:59:08.704361Z"
    },
    "papermill": {
     "duration": 0.022307,
     "end_time": "2024-06-20T10:59:08.709065",
     "exception": false,
     "start_time": "2024-06-20T10:59:08.686758",
     "status": "completed"
    },
    "tags": []
   },
   "outputs": [
    {
     "name": "stdout",
     "output_type": "stream",
     "text": [
      "[[0. 0. 0.]\n",
      " [0. 0. 0.]\n",
      " [0. 0. 0.]]\n"
     ]
    }
   ],
   "source": [
    "# all elements are zeros\n",
    "a = np.zeros((3,3))\n",
    "print(a)"
   ]
  },
  {
   "cell_type": "code",
   "execution_count": 16,
   "id": "9a45304c",
   "metadata": {
    "execution": {
     "iopub.execute_input": "2024-06-20T10:59:08.733703Z",
     "iopub.status.busy": "2024-06-20T10:59:08.732961Z",
     "iopub.status.idle": "2024-06-20T10:59:08.738767Z",
     "shell.execute_reply": "2024-06-20T10:59:08.737757Z"
    },
    "papermill": {
     "duration": 0.02042,
     "end_time": "2024-06-20T10:59:08.740988",
     "exception": false,
     "start_time": "2024-06-20T10:59:08.720568",
     "status": "completed"
    },
    "tags": []
   },
   "outputs": [
    {
     "name": "stdout",
     "output_type": "stream",
     "text": [
      "[[1. 1. 1. 1.]\n",
      " [1. 1. 1. 1.]\n",
      " [1. 1. 1. 1.]\n",
      " [1. 1. 1. 1.]]\n"
     ]
    }
   ],
   "source": [
    "# all elements are ones\n",
    "b = np.ones((4,4))\n",
    "print(b)"
   ]
  },
  {
   "cell_type": "code",
   "execution_count": 17,
   "id": "575c3817",
   "metadata": {
    "execution": {
     "iopub.execute_input": "2024-06-20T10:59:08.765680Z",
     "iopub.status.busy": "2024-06-20T10:59:08.764643Z",
     "iopub.status.idle": "2024-06-20T10:59:08.770858Z",
     "shell.execute_reply": "2024-06-20T10:59:08.769888Z"
    },
    "papermill": {
     "duration": 0.02109,
     "end_time": "2024-06-20T10:59:08.773336",
     "exception": false,
     "start_time": "2024-06-20T10:59:08.752246",
     "status": "completed"
    },
    "tags": []
   },
   "outputs": [
    {
     "name": "stdout",
     "output_type": "stream",
     "text": [
      "[[[50 50]\n",
      "  [50 50]]\n",
      "\n",
      " [[50 50]\n",
      "  [50 50]]] \n",
      "-=-=-=-=-=-=-=-=-=-=-=-\n",
      "[[[12 12]\n",
      "  [12 12]]\n",
      "\n",
      " [[12 12]\n",
      "  [12 12]]]\n"
     ]
    }
   ],
   "source": [
    "# all elements are the same number (full)\n",
    "c = np.full((2,2,2), 50)\n",
    "print(c, '\\n-=-=-=-=-=-=-=-=-=-=-=-')\n",
    "## make array full of a number with the same shape as another array\n",
    "print(np.full_like(c, 12))"
   ]
  },
  {
   "cell_type": "code",
   "execution_count": 18,
   "id": "b5c739d1",
   "metadata": {
    "execution": {
     "iopub.execute_input": "2024-06-20T10:59:08.797678Z",
     "iopub.status.busy": "2024-06-20T10:59:08.797324Z",
     "iopub.status.idle": "2024-06-20T10:59:08.803870Z",
     "shell.execute_reply": "2024-06-20T10:59:08.802776Z"
    },
    "papermill": {
     "duration": 0.021395,
     "end_time": "2024-06-20T10:59:08.806113",
     "exception": false,
     "start_time": "2024-06-20T10:59:08.784718",
     "status": "completed"
    },
    "tags": []
   },
   "outputs": [
    {
     "name": "stdout",
     "output_type": "stream",
     "text": [
      "[[0.86328425 0.40835851 0.15584125 0.81606507 0.09087124]\n",
      " [0.15391774 0.46248124 0.85837404 0.93300995 0.04067577]] \n",
      "-=-=-=-=-=-=-=-=-=-=-=-=-\n",
      "[[0.83456427 0.15651951 0.44539368 0.80085094]\n",
      " [0.83193322 0.90755154 0.42566939 0.4918701 ]\n",
      " [0.48190449 0.89934784 0.42211709 0.2129445 ]\n",
      " [0.79079169 0.66593122 0.60177664 0.58433512]]\n"
     ]
    }
   ],
   "source": [
    "# create an array of random decimal numbers.\n",
    "print(np.random.rand(2, 5), \"\\n-=-=-=-=-=-=-=-=-=-=-=-=-\")\n",
    "# create an array of random decimal numbers with the same shape as another arrays\n",
    "print(np.random.random(b.shape))"
   ]
  },
  {
   "cell_type": "code",
   "execution_count": 19,
   "id": "acef52c2",
   "metadata": {
    "execution": {
     "iopub.execute_input": "2024-06-20T10:59:08.831230Z",
     "iopub.status.busy": "2024-06-20T10:59:08.830102Z",
     "iopub.status.idle": "2024-06-20T10:59:08.838567Z",
     "shell.execute_reply": "2024-06-20T10:59:08.837505Z"
    },
    "papermill": {
     "duration": 0.02325,
     "end_time": "2024-06-20T10:59:08.840803",
     "exception": false,
     "start_time": "2024-06-20T10:59:08.817553",
     "status": "completed"
    },
    "tags": []
   },
   "outputs": [
    {
     "name": "stdout",
     "output_type": "stream",
     "text": [
      "[[14 14 10 10]\n",
      " [14 11 14 12]]\n",
      "\n",
      "============================\n",
      "[[14  7 13 12]\n",
      " [ 9  5  6  8]]\n"
     ]
    }
   ],
   "source": [
    "# create an array of random integers\n",
    "print(np.random.default_rng().integers(10, 15, size=(2,4)))\n",
    "print(\"\\n============================\")\n",
    "# using randit (deprecated)\n",
    "print(np.random.randint(5, 15, size=(2,4)))"
   ]
  },
  {
   "cell_type": "markdown",
   "id": "82a66605",
   "metadata": {
    "papermill": {
     "duration": 0.011111,
     "end_time": "2024-06-20T10:59:08.863417",
     "exception": false,
     "start_time": "2024-06-20T10:59:08.852306",
     "status": "completed"
    },
    "tags": []
   },
   "source": [
    "[](http://)"
   ]
  },
  {
   "cell_type": "code",
   "execution_count": 20,
   "id": "f491834a",
   "metadata": {
    "execution": {
     "iopub.execute_input": "2024-06-20T10:59:08.887977Z",
     "iopub.status.busy": "2024-06-20T10:59:08.887568Z",
     "iopub.status.idle": "2024-06-20T10:59:08.893042Z",
     "shell.execute_reply": "2024-06-20T10:59:08.892074Z"
    },
    "papermill": {
     "duration": 0.020295,
     "end_time": "2024-06-20T10:59:08.895182",
     "exception": false,
     "start_time": "2024-06-20T10:59:08.874887",
     "status": "completed"
    },
    "tags": []
   },
   "outputs": [
    {
     "name": "stdout",
     "output_type": "stream",
     "text": [
      "[[1. 0. 0.]\n",
      " [0. 1. 0.]\n",
      " [0. 0. 1.]]\n"
     ]
    }
   ],
   "source": [
    "# create an identity matrix\n",
    "print(np.identity(3))"
   ]
  },
  {
   "cell_type": "code",
   "execution_count": 21,
   "id": "8d451b6b",
   "metadata": {
    "execution": {
     "iopub.execute_input": "2024-06-20T10:59:08.976257Z",
     "iopub.status.busy": "2024-06-20T10:59:08.975897Z",
     "iopub.status.idle": "2024-06-20T10:59:08.981615Z",
     "shell.execute_reply": "2024-06-20T10:59:08.980620Z"
    },
    "papermill": {
     "duration": 0.021248,
     "end_time": "2024-06-20T10:59:08.983669",
     "exception": false,
     "start_time": "2024-06-20T10:59:08.962421",
     "status": "completed"
    },
    "tags": []
   },
   "outputs": [
    {
     "name": "stdout",
     "output_type": "stream",
     "text": [
      "[[1 2 3]\n",
      " [1 2 3]\n",
      " [1 2 3]]\n"
     ]
    }
   ],
   "source": [
    "# repeat an array\n",
    "print(np.repeat([[1,2,3]], 3, axis=0))"
   ]
  },
  {
   "cell_type": "code",
   "execution_count": 22,
   "id": "6b0b8b03",
   "metadata": {
    "execution": {
     "iopub.execute_input": "2024-06-20T10:59:09.009375Z",
     "iopub.status.busy": "2024-06-20T10:59:09.008373Z",
     "iopub.status.idle": "2024-06-20T10:59:09.017005Z",
     "shell.execute_reply": "2024-06-20T10:59:09.015909Z"
    },
    "papermill": {
     "duration": 0.023713,
     "end_time": "2024-06-20T10:59:09.019152",
     "exception": false,
     "start_time": "2024-06-20T10:59:08.995439",
     "status": "completed"
    },
    "tags": []
   },
   "outputs": [
    {
     "name": "stdout",
     "output_type": "stream",
     "text": [
      "[[1. 1. 1. 1. 1.]\n",
      " [1. 0. 0. 0. 1.]\n",
      " [1. 0. 9. 0. 1.]\n",
      " [1. 0. 0. 0. 1.]\n",
      " [1. 1. 1. 1. 1.]]\n",
      "[[1. 1. 1. 1. 1.]\n",
      " [1. 0. 0. 0. 1.]\n",
      " [1. 0. 9. 0. 1.]\n",
      " [1. 0. 0. 0. 1.]\n",
      " [1. 1. 1. 1. 1.]]\n"
     ]
    }
   ],
   "source": [
    "# array challenge\n",
    "d = np.zeros((5,5))\n",
    "d[0] = np.ones((1,5))\n",
    "d[4] = np.repeat(d[0], 1, axis=0)\n",
    "d[:,0] = np.repeat(d[0], 1, axis=0)\n",
    "d[:,4] = np.repeat(d[0], 1, axis=0)\n",
    "d[2,2] = 9\n",
    "\n",
    "# array challenge #2\n",
    "output = np.ones((5,5))\n",
    "output[1:-1,1:-1] = np.zeros((3,3))\n",
    "output[2,2] = 9\n",
    "print(d)\n",
    "print(output)"
   ]
  },
  {
   "cell_type": "markdown",
   "id": "8c475ecb",
   "metadata": {
    "papermill": {
     "duration": 0.011357,
     "end_time": "2024-06-20T10:59:09.042240",
     "exception": false,
     "start_time": "2024-06-20T10:59:09.030883",
     "status": "completed"
    },
    "tags": []
   },
   "source": [
    "### **Copying arrays !! (IMPORTANT)**"
   ]
  },
  {
   "cell_type": "code",
   "execution_count": 23,
   "id": "100d3e73",
   "metadata": {
    "execution": {
     "iopub.execute_input": "2024-06-20T10:59:09.067599Z",
     "iopub.status.busy": "2024-06-20T10:59:09.066921Z",
     "iopub.status.idle": "2024-06-20T10:59:09.073999Z",
     "shell.execute_reply": "2024-06-20T10:59:09.072886Z"
    },
    "papermill": {
     "duration": 0.02206,
     "end_time": "2024-06-20T10:59:09.076081",
     "exception": false,
     "start_time": "2024-06-20T10:59:09.054021",
     "status": "completed"
    },
    "tags": []
   },
   "outputs": [
    {
     "name": "stdout",
     "output_type": "stream",
     "text": [
      "[999   2   3]\n",
      "[1 2 3]\n"
     ]
    }
   ],
   "source": [
    "# when copying array use the copy() method\n",
    "\n",
    "a = np.array([1,2,3])\n",
    "b = a\n",
    "b[0] = 999\n",
    "\n",
    "print(a) # as you can see b points to the same object as a, therefore when we set b[0] to 999 it also changes a\n",
    "\n",
    "# using copy() method\n",
    "\n",
    "a = np.array([1,2,3])\n",
    "b = a.copy()\n",
    "b[0] = 999\n",
    "\n",
    "print(a) # changing elements in b will no longer change a"
   ]
  },
  {
   "cell_type": "markdown",
   "id": "1fa736a6",
   "metadata": {
    "papermill": {
     "duration": 0.011672,
     "end_time": "2024-06-20T10:59:09.099680",
     "exception": false,
     "start_time": "2024-06-20T10:59:09.088008",
     "status": "completed"
    },
    "tags": []
   },
   "source": [
    "### **Mathematics**"
   ]
  },
  {
   "cell_type": "code",
   "execution_count": 24,
   "id": "46bcc581",
   "metadata": {
    "execution": {
     "iopub.execute_input": "2024-06-20T10:59:09.125743Z",
     "iopub.status.busy": "2024-06-20T10:59:09.124607Z",
     "iopub.status.idle": "2024-06-20T10:59:09.129771Z",
     "shell.execute_reply": "2024-06-20T10:59:09.128667Z"
    },
    "papermill": {
     "duration": 0.020453,
     "end_time": "2024-06-20T10:59:09.132012",
     "exception": false,
     "start_time": "2024-06-20T10:59:09.111559",
     "status": "completed"
    },
    "tags": []
   },
   "outputs": [],
   "source": [
    "# you can perform arithmetic on the arrays!\n",
    "a = np.array([1,2,3,4,5])"
   ]
  },
  {
   "cell_type": "code",
   "execution_count": 25,
   "id": "ac121116",
   "metadata": {
    "execution": {
     "iopub.execute_input": "2024-06-20T10:59:09.157425Z",
     "iopub.status.busy": "2024-06-20T10:59:09.157083Z",
     "iopub.status.idle": "2024-06-20T10:59:09.163758Z",
     "shell.execute_reply": "2024-06-20T10:59:09.162474Z"
    },
    "papermill": {
     "duration": 0.022339,
     "end_time": "2024-06-20T10:59:09.166351",
     "exception": false,
     "start_time": "2024-06-20T10:59:09.144012",
     "status": "completed"
    },
    "tags": []
   },
   "outputs": [
    {
     "name": "stdout",
     "output_type": "stream",
     "text": [
      "[3 4 5 6 7]\n",
      "[-1  0  1  2  3]\n",
      "[ 2  4  6  8 10]\n",
      "[0.5 1.  1.5 2.  2.5]\n",
      "[ 1  4  9 16 25]\n"
     ]
    }
   ],
   "source": [
    "print(a+2)\n",
    "print(a-2)\n",
    "print(a*2)\n",
    "print(a/2)\n",
    "print(a**2)"
   ]
  },
  {
   "cell_type": "code",
   "execution_count": 26,
   "id": "4e46f609",
   "metadata": {
    "execution": {
     "iopub.execute_input": "2024-06-20T10:59:09.192073Z",
     "iopub.status.busy": "2024-06-20T10:59:09.191682Z",
     "iopub.status.idle": "2024-06-20T10:59:09.196713Z",
     "shell.execute_reply": "2024-06-20T10:59:09.195529Z"
    },
    "papermill": {
     "duration": 0.021097,
     "end_time": "2024-06-20T10:59:09.199540",
     "exception": false,
     "start_time": "2024-06-20T10:59:09.178443",
     "status": "completed"
    },
    "tags": []
   },
   "outputs": [],
   "source": [
    "b = np.array([1.4, 1.6, 1.8, 2.0, 2.2])\n",
    "c = a + b"
   ]
  },
  {
   "cell_type": "code",
   "execution_count": 27,
   "id": "f49d5590",
   "metadata": {
    "execution": {
     "iopub.execute_input": "2024-06-20T10:59:09.225668Z",
     "iopub.status.busy": "2024-06-20T10:59:09.225278Z",
     "iopub.status.idle": "2024-06-20T10:59:09.233504Z",
     "shell.execute_reply": "2024-06-20T10:59:09.232530Z"
    },
    "papermill": {
     "duration": 0.024005,
     "end_time": "2024-06-20T10:59:09.236133",
     "exception": false,
     "start_time": "2024-06-20T10:59:09.212128",
     "status": "completed"
    },
    "tags": []
   },
   "outputs": [
    {
     "name": "stdout",
     "output_type": "stream",
     "text": [
      "sin a [ 0.84147098  0.90929743  0.14112001 -0.7568025  -0.95892427]\n",
      "cos a [ 0.54030231 -0.41614684 -0.9899925  -0.65364362  0.28366219]\n",
      "ceil c [3. 4. 5. 6. 8.]\n",
      "floor c [2. 3. 4. 6. 7.]\n"
     ]
    }
   ],
   "source": [
    "# mathematical functions! more: https://numpy.org/doc/stable/reference/routines.math.html\n",
    "print(\"sin a\", np.sin(a))\n",
    "print(\"cos a\", np.cos(a))\n",
    "print(\"ceil c\", np.ceil(c))\n",
    "print(\"floor c\", np.floor(c))"
   ]
  },
  {
   "cell_type": "markdown",
   "id": "30c523c0",
   "metadata": {
    "papermill": {
     "duration": 0.011733,
     "end_time": "2024-06-20T10:59:09.260100",
     "exception": false,
     "start_time": "2024-06-20T10:59:09.248367",
     "status": "completed"
    },
    "tags": []
   },
   "source": [
    "#### Linear Algebra"
   ]
  },
  {
   "cell_type": "code",
   "execution_count": 28,
   "id": "0ceccf00",
   "metadata": {
    "execution": {
     "iopub.execute_input": "2024-06-20T10:59:09.285926Z",
     "iopub.status.busy": "2024-06-20T10:59:09.285502Z",
     "iopub.status.idle": "2024-06-20T10:59:09.292333Z",
     "shell.execute_reply": "2024-06-20T10:59:09.291356Z"
    },
    "papermill": {
     "duration": 0.022599,
     "end_time": "2024-06-20T10:59:09.294862",
     "exception": false,
     "start_time": "2024-06-20T10:59:09.272263",
     "status": "completed"
    },
    "tags": []
   },
   "outputs": [
    {
     "name": "stdout",
     "output_type": "stream",
     "text": [
      "a\n",
      " [[3 3]\n",
      " [3 3]\n",
      " [3 3]]\n",
      "b\n",
      " [[4 4 4]\n",
      " [4 4 4]]\n",
      "a*b\n",
      " [[24 24 24]\n",
      " [24 24 24]\n",
      " [24 24 24]]\n",
      "b*a\n",
      " [[36 36]\n",
      " [36 36]]\n"
     ]
    }
   ],
   "source": [
    "# matrix multiplication \n",
    "a = np.full((3,2), 3)\n",
    "b = np.full((2,3), 4)\n",
    "print(\"a\\n\", a)\n",
    "print(\"b\\n\", b)\n",
    "\n",
    "print(\"a*b\\n\", np.matmul(a,b))\n",
    "print(\"b*a\\n\", np.matmul(b,a))"
   ]
  },
  {
   "cell_type": "code",
   "execution_count": 29,
   "id": "d180a836",
   "metadata": {
    "execution": {
     "iopub.execute_input": "2024-06-20T10:59:09.321006Z",
     "iopub.status.busy": "2024-06-20T10:59:09.320606Z",
     "iopub.status.idle": "2024-06-20T10:59:09.327627Z",
     "shell.execute_reply": "2024-06-20T10:59:09.326489Z"
    },
    "papermill": {
     "duration": 0.022704,
     "end_time": "2024-06-20T10:59:09.329830",
     "exception": false,
     "start_time": "2024-06-20T10:59:09.307126",
     "status": "completed"
    },
    "tags": []
   },
   "outputs": [
    {
     "data": {
      "text/plain": [
       "1.0"
      ]
     },
     "execution_count": 29,
     "metadata": {},
     "output_type": "execute_result"
    }
   ],
   "source": [
    "# identity matrix and determinant\n",
    "c = np.identity(5)\n",
    "np.linalg.det(c)"
   ]
  },
  {
   "cell_type": "markdown",
   "id": "a12f66b9",
   "metadata": {
    "papermill": {
     "duration": 0.012048,
     "end_time": "2024-06-20T10:59:09.354319",
     "exception": false,
     "start_time": "2024-06-20T10:59:09.342271",
     "status": "completed"
    },
    "tags": []
   },
   "source": [
    "#### Statistics"
   ]
  },
  {
   "cell_type": "code",
   "execution_count": 30,
   "id": "a4275549",
   "metadata": {
    "execution": {
     "iopub.execute_input": "2024-06-20T10:59:09.381061Z",
     "iopub.status.busy": "2024-06-20T10:59:09.380374Z",
     "iopub.status.idle": "2024-06-20T10:59:09.387282Z",
     "shell.execute_reply": "2024-06-20T10:59:09.386194Z"
    },
    "papermill": {
     "duration": 0.023024,
     "end_time": "2024-06-20T10:59:09.389765",
     "exception": false,
     "start_time": "2024-06-20T10:59:09.366741",
     "status": "completed"
    },
    "tags": []
   },
   "outputs": [
    {
     "data": {
      "text/plain": [
       "array([[1, 2, 3],\n",
       "       [4, 5, 6]])"
      ]
     },
     "execution_count": 30,
     "metadata": {},
     "output_type": "execute_result"
    }
   ],
   "source": [
    "stats = np.array([[1,2,3], [4,5,6]])\n",
    "stats"
   ]
  },
  {
   "cell_type": "code",
   "execution_count": 31,
   "id": "a2b04446",
   "metadata": {
    "execution": {
     "iopub.execute_input": "2024-06-20T10:59:09.417156Z",
     "iopub.status.busy": "2024-06-20T10:59:09.416414Z",
     "iopub.status.idle": "2024-06-20T10:59:09.423259Z",
     "shell.execute_reply": "2024-06-20T10:59:09.422131Z"
    },
    "papermill": {
     "duration": 0.023009,
     "end_time": "2024-06-20T10:59:09.425495",
     "exception": false,
     "start_time": "2024-06-20T10:59:09.402486",
     "status": "completed"
    },
    "tags": []
   },
   "outputs": [
    {
     "name": "stdout",
     "output_type": "stream",
     "text": [
      "[1 2 3]\n",
      "[1 4]\n",
      "6\n"
     ]
    }
   ],
   "source": [
    "# min and max of array\n",
    "print(np.min(stats, axis=0)) # get min of the horizonal axis\n",
    "print(np.min(stats, axis=1)) # get min of vertical axis\n",
    "print(np.max(stats)) # get maximum value "
   ]
  },
  {
   "cell_type": "code",
   "execution_count": 32,
   "id": "cb7747ec",
   "metadata": {
    "execution": {
     "iopub.execute_input": "2024-06-20T10:59:09.452415Z",
     "iopub.status.busy": "2024-06-20T10:59:09.452003Z",
     "iopub.status.idle": "2024-06-20T10:59:09.458647Z",
     "shell.execute_reply": "2024-06-20T10:59:09.457436Z"
    },
    "papermill": {
     "duration": 0.023317,
     "end_time": "2024-06-20T10:59:09.461387",
     "exception": false,
     "start_time": "2024-06-20T10:59:09.438070",
     "status": "completed"
    },
    "tags": []
   },
   "outputs": [
    {
     "name": "stdout",
     "output_type": "stream",
     "text": [
      "[5 7 9]\n",
      "[ 6 15]\n",
      "21\n"
     ]
    }
   ],
   "source": [
    "# sum\n",
    "print(np.sum(stats, axis=0)) # get sum of the horizontal axis - adds each element that are in the vertical axis\n",
    "print(np.sum(stats, axis=1)) # get sum of the vertical axis - adds each element that are in the horizontal axis\n",
    "print(np.sum(stats)) # get sum of array"
   ]
  },
  {
   "cell_type": "markdown",
   "id": "87f8f024",
   "metadata": {
    "papermill": {
     "duration": 0.012289,
     "end_time": "2024-06-20T10:59:09.486837",
     "exception": false,
     "start_time": "2024-06-20T10:59:09.474548",
     "status": "completed"
    },
    "tags": []
   },
   "source": [
    "### **Matrix Reorganizing**"
   ]
  },
  {
   "cell_type": "code",
   "execution_count": 33,
   "id": "3d3786fd",
   "metadata": {
    "execution": {
     "iopub.execute_input": "2024-06-20T10:59:09.513819Z",
     "iopub.status.busy": "2024-06-20T10:59:09.513364Z",
     "iopub.status.idle": "2024-06-20T10:59:09.521350Z",
     "shell.execute_reply": "2024-06-20T10:59:09.519880Z"
    },
    "papermill": {
     "duration": 0.024107,
     "end_time": "2024-06-20T10:59:09.523522",
     "exception": false,
     "start_time": "2024-06-20T10:59:09.499415",
     "status": "completed"
    },
    "tags": []
   },
   "outputs": [
    {
     "name": "stdout",
     "output_type": "stream",
     "text": [
      "[[ 1  2  3  4  5  6]\n",
      " [ 7  8  9 10 11 12]]\n",
      "\n",
      " [[ 1  2  3  4]\n",
      " [ 5  6  7  8]\n",
      " [ 9 10 11 12]]\n",
      "\n",
      " [[ 1  2]\n",
      " [ 3  4]\n",
      " [ 5  6]\n",
      " [ 7  8]\n",
      " [ 9 10]\n",
      " [11 12]]\n",
      "\n",
      " [[[ 1  2]\n",
      "  [ 3  4]]\n",
      "\n",
      " [[ 5  6]\n",
      "  [ 7  8]]\n",
      "\n",
      " [[ 9 10]\n",
      "  [11 12]]]\n"
     ]
    }
   ],
   "source": [
    "# reshaping an array\n",
    "before = np.array([[1,2,3,4,5,6],[7,8,9,10,11,12]])\n",
    "print(before)\n",
    "\n",
    "# reshaped arrays MUST have the same number of values as the original array\n",
    "print(\"\\n\", before.reshape(3,4))\n",
    "print(\"\\n\", before.reshape(6,2))\n",
    "print(\"\\n\", before.reshape(3,2,2))"
   ]
  },
  {
   "cell_type": "code",
   "execution_count": 34,
   "id": "c0b3acb2",
   "metadata": {
    "execution": {
     "iopub.execute_input": "2024-06-20T10:59:09.551445Z",
     "iopub.status.busy": "2024-06-20T10:59:09.551075Z",
     "iopub.status.idle": "2024-06-20T10:59:09.558802Z",
     "shell.execute_reply": "2024-06-20T10:59:09.557646Z"
    },
    "papermill": {
     "duration": 0.024876,
     "end_time": "2024-06-20T10:59:09.561269",
     "exception": false,
     "start_time": "2024-06-20T10:59:09.536393",
     "status": "completed"
    },
    "tags": []
   },
   "outputs": [
    {
     "name": "stdout",
     "output_type": "stream",
     "text": [
      "[[1 2 3 4]\n",
      " [5 6 7 8]]\n",
      "[[1 5]\n",
      " [2 6]\n",
      " [3 7]\n",
      " [4 8]]\n",
      "[[1 2 3 4]\n",
      " [5 6 7 8]]\n",
      "[1 2 3 4 5 6 7 8]\n"
     ]
    }
   ],
   "source": [
    "# stacking arrays - arrays need to have the same shape\n",
    "\n",
    "a1 = np.array([1,2,3,4])\n",
    "a2 = np.array([5,6,7,8])\n",
    "\n",
    "print(np.stack((a1,a2), axis=0))\n",
    "print(np.stack((a1,a2), axis=1))\n",
    "\n",
    "# vstack\n",
    "print(np.vstack((a1,a2)))\n",
    "# hstack\n",
    "print(np.hstack((a1,a2)))"
   ]
  },
  {
   "cell_type": "markdown",
   "id": "e29a267c",
   "metadata": {
    "papermill": {
     "duration": 0.012275,
     "end_time": "2024-06-20T10:59:09.586286",
     "exception": false,
     "start_time": "2024-06-20T10:59:09.574011",
     "status": "completed"
    },
    "tags": []
   },
   "source": [
    "### **Miscellaneous**"
   ]
  },
  {
   "cell_type": "markdown",
   "id": "39ee75c0",
   "metadata": {
    "papermill": {
     "duration": 0.012224,
     "end_time": "2024-06-20T10:59:09.611201",
     "exception": false,
     "start_time": "2024-06-20T10:59:09.598977",
     "status": "completed"
    },
    "tags": []
   },
   "source": [
    "#### Loading data from file"
   ]
  },
  {
   "cell_type": "code",
   "execution_count": 35,
   "id": "41c68143",
   "metadata": {
    "execution": {
     "iopub.execute_input": "2024-06-20T10:59:09.638436Z",
     "iopub.status.busy": "2024-06-20T10:59:09.638039Z",
     "iopub.status.idle": "2024-06-20T10:59:09.652894Z",
     "shell.execute_reply": "2024-06-20T10:59:09.651793Z"
    },
    "papermill": {
     "duration": 0.03126,
     "end_time": "2024-06-20T10:59:09.655285",
     "exception": false,
     "start_time": "2024-06-20T10:59:09.624025",
     "status": "completed"
    },
    "tags": []
   },
   "outputs": [
    {
     "data": {
      "text/plain": [
       "array([[ 1,  2,  3,  4,  5,  6,  7,  8],\n",
       "       [ 9, 10, 11, 12, 13, 14, 15, 16],\n",
       "       [17, 18, 19, 20, 21, 22, 23, 24]], dtype=int32)"
      ]
     },
     "execution_count": 35,
     "metadata": {},
     "output_type": "execute_result"
    }
   ],
   "source": [
    "filedata = np.genfromtxt('/kaggle/input/test-input-numpy/testdata.txt', delimiter=',', dtype='int32')\n",
    "filedata"
   ]
  },
  {
   "cell_type": "markdown",
   "id": "69509743",
   "metadata": {
    "papermill": {
     "duration": 0.012651,
     "end_time": "2024-06-20T10:59:09.681102",
     "exception": false,
     "start_time": "2024-06-20T10:59:09.668451",
     "status": "completed"
    },
    "tags": []
   },
   "source": [
    "#### Boolean Masking and Advanced Indexing"
   ]
  },
  {
   "cell_type": "code",
   "execution_count": 36,
   "id": "403e6da9",
   "metadata": {
    "execution": {
     "iopub.execute_input": "2024-06-20T10:59:09.708623Z",
     "iopub.status.busy": "2024-06-20T10:59:09.708230Z",
     "iopub.status.idle": "2024-06-20T10:59:09.714106Z",
     "shell.execute_reply": "2024-06-20T10:59:09.713076Z"
    },
    "papermill": {
     "duration": 0.022799,
     "end_time": "2024-06-20T10:59:09.716855",
     "exception": false,
     "start_time": "2024-06-20T10:59:09.694056",
     "status": "completed"
    },
    "tags": []
   },
   "outputs": [
    {
     "name": "stdout",
     "output_type": "stream",
     "text": [
      "[[ True  True  True  True False False False False]\n",
      " [False False False False False False False False]\n",
      " [False False False False False False False False]] \n",
      "\n",
      "[[False False False False False  True  True  True]\n",
      " [ True  True  True  True  True  True False False]\n",
      " [False False False False False False False False]]\n"
     ]
    }
   ],
   "source": [
    "# Boolean masking\n",
    "# broadcast array with conditional operator\n",
    "print(filedata < 5, \"\\n\") # will return a boolean array\n",
    "print((filedata > 5) & (filedata < 15))"
   ]
  },
  {
   "cell_type": "code",
   "execution_count": 37,
   "id": "9efb0a4f",
   "metadata": {
    "execution": {
     "iopub.execute_input": "2024-06-20T10:59:09.744428Z",
     "iopub.status.busy": "2024-06-20T10:59:09.744063Z",
     "iopub.status.idle": "2024-06-20T10:59:09.750341Z",
     "shell.execute_reply": "2024-06-20T10:59:09.749270Z"
    },
    "papermill": {
     "duration": 0.022992,
     "end_time": "2024-06-20T10:59:09.752838",
     "exception": false,
     "start_time": "2024-06-20T10:59:09.729846",
     "status": "completed"
    },
    "tags": []
   },
   "outputs": [
    {
     "name": "stdout",
     "output_type": "stream",
     "text": [
      "[ True  True  True  True False False False False]\n",
      "[ True False False]\n",
      "[False False False False False False False False]\n"
     ]
    }
   ],
   "source": [
    "# using any(or) to test for true on a specific axis\n",
    "print(np.any(filedata < 5, axis=0)) # returns True if a column contains an element < 5\n",
    "print(np.any(filedata < 5, axis=1)) # returns True if a row contains an element < 5\n",
    "\n",
    "# using all(and) to test for true on a specific axis\n",
    "print(np.all(filedata < 5, axis=0)) # returns True if all elements in a column is < 5"
   ]
  },
  {
   "cell_type": "code",
   "execution_count": 38,
   "id": "67ff90ec",
   "metadata": {
    "execution": {
     "iopub.execute_input": "2024-06-20T10:59:09.780354Z",
     "iopub.status.busy": "2024-06-20T10:59:09.779990Z",
     "iopub.status.idle": "2024-06-20T10:59:09.785564Z",
     "shell.execute_reply": "2024-06-20T10:59:09.784508Z"
    },
    "papermill": {
     "duration": 0.021796,
     "end_time": "2024-06-20T10:59:09.787649",
     "exception": false,
     "start_time": "2024-06-20T10:59:09.765853",
     "status": "completed"
    },
    "tags": []
   },
   "outputs": [
    {
     "name": "stdout",
     "output_type": "stream",
     "text": [
      "[1 2 3 4]\n"
     ]
    }
   ],
   "source": [
    "# Advanced indexing\n",
    "# indexing using conditional operations\n",
    "print(filedata[filedata < 5]) # return array where element < 5"
   ]
  },
  {
   "cell_type": "code",
   "execution_count": 39,
   "id": "a9b09454",
   "metadata": {
    "execution": {
     "iopub.execute_input": "2024-06-20T10:59:09.815360Z",
     "iopub.status.busy": "2024-06-20T10:59:09.814987Z",
     "iopub.status.idle": "2024-06-20T10:59:09.822287Z",
     "shell.execute_reply": "2024-06-20T10:59:09.821345Z"
    },
    "papermill": {
     "duration": 0.023781,
     "end_time": "2024-06-20T10:59:09.824414",
     "exception": false,
     "start_time": "2024-06-20T10:59:09.800633",
     "status": "completed"
    },
    "tags": []
   },
   "outputs": [
    {
     "data": {
      "text/plain": [
       "array([10,  6,  1])"
      ]
     },
     "execution_count": 39,
     "metadata": {},
     "output_type": "execute_result"
    }
   ],
   "source": [
    "# indexing using a list\n",
    "a = np.array([10,9,8,7,6,5,4,3,2,1])\n",
    "a[[0,4,9]]"
   ]
  },
  {
   "cell_type": "code",
   "execution_count": null,
   "id": "ee780fb8",
   "metadata": {
    "papermill": {
     "duration": 0.012827,
     "end_time": "2024-06-20T10:59:09.850399",
     "exception": false,
     "start_time": "2024-06-20T10:59:09.837572",
     "status": "completed"
    },
    "tags": []
   },
   "outputs": [],
   "source": []
  }
 ],
 "metadata": {
  "kaggle": {
   "accelerator": "none",
   "dataSources": [
    {
     "datasetId": 5244827,
     "sourceId": 8736739,
     "sourceType": "datasetVersion"
    }
   ],
   "dockerImageVersionId": 30732,
   "isGpuEnabled": false,
   "isInternetEnabled": true,
   "language": "python",
   "sourceType": "notebook"
  },
  "kernelspec": {
   "display_name": "Python 3",
   "language": "python",
   "name": "python3"
  },
  "language_info": {
   "codemirror_mode": {
    "name": "ipython",
    "version": 3
   },
   "file_extension": ".py",
   "mimetype": "text/x-python",
   "name": "python",
   "nbconvert_exporter": "python",
   "pygments_lexer": "ipython3",
   "version": "3.10.13"
  },
  "papermill": {
   "default_parameters": {},
   "duration": 4.660704,
   "end_time": "2024-06-20T10:59:10.182857",
   "environment_variables": {},
   "exception": null,
   "input_path": "__notebook__.ipynb",
   "output_path": "__notebook__.ipynb",
   "parameters": {},
   "start_time": "2024-06-20T10:59:05.522153",
   "version": "2.5.0"
  }
 },
 "nbformat": 4,
 "nbformat_minor": 5
}
